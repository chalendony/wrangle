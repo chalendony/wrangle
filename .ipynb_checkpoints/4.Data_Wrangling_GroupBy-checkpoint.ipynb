{
 "cells": [
  {
   "cell_type": "markdown",
   "metadata": {},
   "source": [
    "# Data Wrangling : Group Data"
   ]
  },
  {
   "cell_type": "code",
   "execution_count": 1,
   "metadata": {},
   "outputs": [],
   "source": [
    "import pandas as pd\n",
    "import numpy as np\n",
    "%load_ext line_profiler\n",
    "#%load_ext cython\n",
    "#from joblib import Parallel, delayed\n",
    "from scipy.stats import zscore"
   ]
  },
  {
   "cell_type": "markdown",
   "metadata": {},
   "source": [
    "# Grouping Data \n",
    "\n",
    "Grouping data means we: \n",
    "\n",
    "* Split: Segment data based on criteria\n",
    "\n",
    "* Apply: Aggregate - Transform - Filter operations to the elemes of each group\n"
   ]
  },
  {
   "cell_type": "code",
   "execution_count": 2,
   "metadata": {},
   "outputs": [],
   "source": [
    "# Load data \n",
    "df = pd.read_csv('/Users/stewarta/Documents/DATA/Home Data/bureau_balance.csv')"
   ]
  },
  {
   "cell_type": "code",
   "execution_count": 3,
   "metadata": {},
   "outputs": [
    {
     "data": {
      "text/html": [
       "<div>\n",
       "<style scoped>\n",
       "    .dataframe tbody tr th:only-of-type {\n",
       "        vertical-align: middle;\n",
       "    }\n",
       "\n",
       "    .dataframe tbody tr th {\n",
       "        vertical-align: top;\n",
       "    }\n",
       "\n",
       "    .dataframe thead th {\n",
       "        text-align: right;\n",
       "    }\n",
       "</style>\n",
       "<table border=\"1\" class=\"dataframe\">\n",
       "  <thead>\n",
       "    <tr style=\"text-align: right;\">\n",
       "      <th></th>\n",
       "      <th>SK_ID_BUREAU</th>\n",
       "      <th>MONTHS_BALANCE</th>\n",
       "      <th>STATUS</th>\n",
       "    </tr>\n",
       "  </thead>\n",
       "  <tbody>\n",
       "    <tr>\n",
       "      <th>0</th>\n",
       "      <td>5715448</td>\n",
       "      <td>0</td>\n",
       "      <td>C</td>\n",
       "    </tr>\n",
       "    <tr>\n",
       "      <th>1</th>\n",
       "      <td>5715448</td>\n",
       "      <td>-1</td>\n",
       "      <td>C</td>\n",
       "    </tr>\n",
       "    <tr>\n",
       "      <th>2</th>\n",
       "      <td>5715448</td>\n",
       "      <td>-2</td>\n",
       "      <td>C</td>\n",
       "    </tr>\n",
       "    <tr>\n",
       "      <th>3</th>\n",
       "      <td>5715448</td>\n",
       "      <td>-3</td>\n",
       "      <td>C</td>\n",
       "    </tr>\n",
       "    <tr>\n",
       "      <th>4</th>\n",
       "      <td>5715448</td>\n",
       "      <td>-4</td>\n",
       "      <td>C</td>\n",
       "    </tr>\n",
       "  </tbody>\n",
       "</table>\n",
       "</div>"
      ],
      "text/plain": [
       "   SK_ID_BUREAU  MONTHS_BALANCE STATUS\n",
       "0       5715448               0      C\n",
       "1       5715448              -1      C\n",
       "2       5715448              -2      C\n",
       "3       5715448              -3      C\n",
       "4       5715448              -4      C"
      ]
     },
     "execution_count": 3,
     "metadata": {},
     "output_type": "execute_result"
    }
   ],
   "source": [
    "df.head()"
   ]
  },
  {
   "cell_type": "markdown",
   "metadata": {},
   "source": [
    "## Index the Data"
   ]
  },
  {
   "cell_type": "code",
   "execution_count": 4,
   "metadata": {},
   "outputs": [
    {
     "data": {
      "text/html": [
       "<div>\n",
       "<style scoped>\n",
       "    .dataframe tbody tr th:only-of-type {\n",
       "        vertical-align: middle;\n",
       "    }\n",
       "\n",
       "    .dataframe tbody tr th {\n",
       "        vertical-align: top;\n",
       "    }\n",
       "\n",
       "    .dataframe thead th {\n",
       "        text-align: right;\n",
       "    }\n",
       "</style>\n",
       "<table border=\"1\" class=\"dataframe\">\n",
       "  <thead>\n",
       "    <tr style=\"text-align: right;\">\n",
       "      <th></th>\n",
       "      <th>MONTHS_BALANCE</th>\n",
       "      <th>STATUS</th>\n",
       "    </tr>\n",
       "    <tr>\n",
       "      <th>SK_ID_BUREAU</th>\n",
       "      <th></th>\n",
       "      <th></th>\n",
       "    </tr>\n",
       "  </thead>\n",
       "  <tbody>\n",
       "    <tr>\n",
       "      <th>5715448</th>\n",
       "      <td>0</td>\n",
       "      <td>C</td>\n",
       "    </tr>\n",
       "    <tr>\n",
       "      <th>5715448</th>\n",
       "      <td>-1</td>\n",
       "      <td>C</td>\n",
       "    </tr>\n",
       "    <tr>\n",
       "      <th>5715448</th>\n",
       "      <td>-2</td>\n",
       "      <td>C</td>\n",
       "    </tr>\n",
       "    <tr>\n",
       "      <th>5715448</th>\n",
       "      <td>-3</td>\n",
       "      <td>C</td>\n",
       "    </tr>\n",
       "    <tr>\n",
       "      <th>5715448</th>\n",
       "      <td>-4</td>\n",
       "      <td>C</td>\n",
       "    </tr>\n",
       "  </tbody>\n",
       "</table>\n",
       "</div>"
      ],
      "text/plain": [
       "              MONTHS_BALANCE STATUS\n",
       "SK_ID_BUREAU                       \n",
       "5715448                    0      C\n",
       "5715448                   -1      C\n",
       "5715448                   -2      C\n",
       "5715448                   -3      C\n",
       "5715448                   -4      C"
      ]
     },
     "execution_count": 4,
     "metadata": {},
     "output_type": "execute_result"
    }
   ],
   "source": [
    "df_bal = df.set_index('SK_ID_BUREAU')\n",
    "df_bal.head()"
   ]
  },
  {
   "cell_type": "markdown",
   "metadata": {},
   "source": [
    "# Split a Dataframe into Groups\n",
    "\n",
    "Split: Segment data based on criteria\n",
    "\n",
    "Pandas objects can be split on any of their axes. Splits are created using the using the groupby() function.  \n",
    "\n",
    "We form groups by passeing one or more columns and and axis to the groupby function. Default axis = 0\n",
    "\n"
   ]
  },
  {
   "cell_type": "code",
   "execution_count": 5,
   "metadata": {},
   "outputs": [
    {
     "data": {
      "text/html": [
       "<div>\n",
       "<style scoped>\n",
       "    .dataframe tbody tr th:only-of-type {\n",
       "        vertical-align: middle;\n",
       "    }\n",
       "\n",
       "    .dataframe tbody tr th {\n",
       "        vertical-align: top;\n",
       "    }\n",
       "\n",
       "    .dataframe thead th {\n",
       "        text-align: right;\n",
       "    }\n",
       "</style>\n",
       "<table border=\"1\" class=\"dataframe\">\n",
       "  <thead>\n",
       "    <tr style=\"text-align: right;\">\n",
       "      <th></th>\n",
       "      <th>MONTHS_BALANCE</th>\n",
       "      <th>STATUS</th>\n",
       "    </tr>\n",
       "    <tr>\n",
       "      <th>SK_ID_BUREAU</th>\n",
       "      <th></th>\n",
       "      <th></th>\n",
       "    </tr>\n",
       "  </thead>\n",
       "  <tbody>\n",
       "    <tr>\n",
       "      <th>5715448</th>\n",
       "      <td>0</td>\n",
       "      <td>C</td>\n",
       "    </tr>\n",
       "    <tr>\n",
       "      <th>5715448</th>\n",
       "      <td>-1</td>\n",
       "      <td>C</td>\n",
       "    </tr>\n",
       "    <tr>\n",
       "      <th>5715448</th>\n",
       "      <td>-2</td>\n",
       "      <td>C</td>\n",
       "    </tr>\n",
       "    <tr>\n",
       "      <th>5715448</th>\n",
       "      <td>-3</td>\n",
       "      <td>C</td>\n",
       "    </tr>\n",
       "    <tr>\n",
       "      <th>5715448</th>\n",
       "      <td>-4</td>\n",
       "      <td>C</td>\n",
       "    </tr>\n",
       "    <tr>\n",
       "      <th>5715449</th>\n",
       "      <td>0</td>\n",
       "      <td>C</td>\n",
       "    </tr>\n",
       "    <tr>\n",
       "      <th>5715449</th>\n",
       "      <td>-1</td>\n",
       "      <td>C</td>\n",
       "    </tr>\n",
       "    <tr>\n",
       "      <th>5715449</th>\n",
       "      <td>-2</td>\n",
       "      <td>C</td>\n",
       "    </tr>\n",
       "    <tr>\n",
       "      <th>5715449</th>\n",
       "      <td>-3</td>\n",
       "      <td>C</td>\n",
       "    </tr>\n",
       "    <tr>\n",
       "      <th>5715449</th>\n",
       "      <td>-4</td>\n",
       "      <td>C</td>\n",
       "    </tr>\n",
       "    <tr>\n",
       "      <th>5715451</th>\n",
       "      <td>-5</td>\n",
       "      <td>C</td>\n",
       "    </tr>\n",
       "    <tr>\n",
       "      <th>5715451</th>\n",
       "      <td>-6</td>\n",
       "      <td>C</td>\n",
       "    </tr>\n",
       "    <tr>\n",
       "      <th>5715451</th>\n",
       "      <td>-7</td>\n",
       "      <td>C</td>\n",
       "    </tr>\n",
       "    <tr>\n",
       "      <th>5715451</th>\n",
       "      <td>-8</td>\n",
       "      <td>C</td>\n",
       "    </tr>\n",
       "    <tr>\n",
       "      <th>5715451</th>\n",
       "      <td>-9</td>\n",
       "      <td>C</td>\n",
       "    </tr>\n",
       "    <tr>\n",
       "      <th>5715452</th>\n",
       "      <td>0</td>\n",
       "      <td>C</td>\n",
       "    </tr>\n",
       "    <tr>\n",
       "      <th>5715452</th>\n",
       "      <td>-1</td>\n",
       "      <td>C</td>\n",
       "    </tr>\n",
       "    <tr>\n",
       "      <th>5715452</th>\n",
       "      <td>-2</td>\n",
       "      <td>C</td>\n",
       "    </tr>\n",
       "    <tr>\n",
       "      <th>5715452</th>\n",
       "      <td>-3</td>\n",
       "      <td>C</td>\n",
       "    </tr>\n",
       "    <tr>\n",
       "      <th>5715452</th>\n",
       "      <td>-4</td>\n",
       "      <td>C</td>\n",
       "    </tr>\n",
       "    <tr>\n",
       "      <th>5715453</th>\n",
       "      <td>0</td>\n",
       "      <td>C</td>\n",
       "    </tr>\n",
       "    <tr>\n",
       "      <th>5715453</th>\n",
       "      <td>-1</td>\n",
       "      <td>C</td>\n",
       "    </tr>\n",
       "    <tr>\n",
       "      <th>5715453</th>\n",
       "      <td>-2</td>\n",
       "      <td>C</td>\n",
       "    </tr>\n",
       "    <tr>\n",
       "      <th>5715453</th>\n",
       "      <td>-3</td>\n",
       "      <td>C</td>\n",
       "    </tr>\n",
       "    <tr>\n",
       "      <th>5715453</th>\n",
       "      <td>-4</td>\n",
       "      <td>C</td>\n",
       "    </tr>\n",
       "    <tr>\n",
       "      <th>5715454</th>\n",
       "      <td>-15</td>\n",
       "      <td>C</td>\n",
       "    </tr>\n",
       "    <tr>\n",
       "      <th>5715454</th>\n",
       "      <td>-16</td>\n",
       "      <td>C</td>\n",
       "    </tr>\n",
       "    <tr>\n",
       "      <th>5715454</th>\n",
       "      <td>-17</td>\n",
       "      <td>C</td>\n",
       "    </tr>\n",
       "    <tr>\n",
       "      <th>5715454</th>\n",
       "      <td>-18</td>\n",
       "      <td>C</td>\n",
       "    </tr>\n",
       "    <tr>\n",
       "      <th>5715454</th>\n",
       "      <td>-19</td>\n",
       "      <td>C</td>\n",
       "    </tr>\n",
       "    <tr>\n",
       "      <th>...</th>\n",
       "      <td>...</td>\n",
       "      <td>...</td>\n",
       "    </tr>\n",
       "    <tr>\n",
       "      <th>5041120</th>\n",
       "      <td>-4</td>\n",
       "      <td>C</td>\n",
       "    </tr>\n",
       "    <tr>\n",
       "      <th>5041120</th>\n",
       "      <td>-5</td>\n",
       "      <td>C</td>\n",
       "    </tr>\n",
       "    <tr>\n",
       "      <th>5041120</th>\n",
       "      <td>-6</td>\n",
       "      <td>C</td>\n",
       "    </tr>\n",
       "    <tr>\n",
       "      <th>5041120</th>\n",
       "      <td>-7</td>\n",
       "      <td>C</td>\n",
       "    </tr>\n",
       "    <tr>\n",
       "      <th>5041120</th>\n",
       "      <td>-8</td>\n",
       "      <td>C</td>\n",
       "    </tr>\n",
       "    <tr>\n",
       "      <th>5041141</th>\n",
       "      <td>0</td>\n",
       "      <td>C</td>\n",
       "    </tr>\n",
       "    <tr>\n",
       "      <th>5041141</th>\n",
       "      <td>-1</td>\n",
       "      <td>C</td>\n",
       "    </tr>\n",
       "    <tr>\n",
       "      <th>5041141</th>\n",
       "      <td>-2</td>\n",
       "      <td>C</td>\n",
       "    </tr>\n",
       "    <tr>\n",
       "      <th>5041141</th>\n",
       "      <td>-3</td>\n",
       "      <td>C</td>\n",
       "    </tr>\n",
       "    <tr>\n",
       "      <th>5041141</th>\n",
       "      <td>-4</td>\n",
       "      <td>C</td>\n",
       "    </tr>\n",
       "    <tr>\n",
       "      <th>5041143</th>\n",
       "      <td>-14</td>\n",
       "      <td>C</td>\n",
       "    </tr>\n",
       "    <tr>\n",
       "      <th>5041143</th>\n",
       "      <td>-15</td>\n",
       "      <td>C</td>\n",
       "    </tr>\n",
       "    <tr>\n",
       "      <th>5041143</th>\n",
       "      <td>-16</td>\n",
       "      <td>C</td>\n",
       "    </tr>\n",
       "    <tr>\n",
       "      <th>5041143</th>\n",
       "      <td>-17</td>\n",
       "      <td>C</td>\n",
       "    </tr>\n",
       "    <tr>\n",
       "      <th>5041143</th>\n",
       "      <td>-18</td>\n",
       "      <td>C</td>\n",
       "    </tr>\n",
       "    <tr>\n",
       "      <th>5041172</th>\n",
       "      <td>0</td>\n",
       "      <td>C</td>\n",
       "    </tr>\n",
       "    <tr>\n",
       "      <th>5041172</th>\n",
       "      <td>-1</td>\n",
       "      <td>C</td>\n",
       "    </tr>\n",
       "    <tr>\n",
       "      <th>5041172</th>\n",
       "      <td>-2</td>\n",
       "      <td>C</td>\n",
       "    </tr>\n",
       "    <tr>\n",
       "      <th>5041172</th>\n",
       "      <td>-3</td>\n",
       "      <td>C</td>\n",
       "    </tr>\n",
       "    <tr>\n",
       "      <th>5041172</th>\n",
       "      <td>-4</td>\n",
       "      <td>C</td>\n",
       "    </tr>\n",
       "    <tr>\n",
       "      <th>5041332</th>\n",
       "      <td>0</td>\n",
       "      <td>X</td>\n",
       "    </tr>\n",
       "    <tr>\n",
       "      <th>5041332</th>\n",
       "      <td>-1</td>\n",
       "      <td>X</td>\n",
       "    </tr>\n",
       "    <tr>\n",
       "      <th>5041332</th>\n",
       "      <td>-2</td>\n",
       "      <td>X</td>\n",
       "    </tr>\n",
       "    <tr>\n",
       "      <th>5041332</th>\n",
       "      <td>-3</td>\n",
       "      <td>X</td>\n",
       "    </tr>\n",
       "    <tr>\n",
       "      <th>5041332</th>\n",
       "      <td>-4</td>\n",
       "      <td>X</td>\n",
       "    </tr>\n",
       "    <tr>\n",
       "      <th>5041336</th>\n",
       "      <td>-28</td>\n",
       "      <td>X</td>\n",
       "    </tr>\n",
       "    <tr>\n",
       "      <th>5041336</th>\n",
       "      <td>-29</td>\n",
       "      <td>X</td>\n",
       "    </tr>\n",
       "    <tr>\n",
       "      <th>5041336</th>\n",
       "      <td>-30</td>\n",
       "      <td>X</td>\n",
       "    </tr>\n",
       "    <tr>\n",
       "      <th>5041336</th>\n",
       "      <td>-31</td>\n",
       "      <td>X</td>\n",
       "    </tr>\n",
       "    <tr>\n",
       "      <th>5041336</th>\n",
       "      <td>-32</td>\n",
       "      <td>X</td>\n",
       "    </tr>\n",
       "  </tbody>\n",
       "</table>\n",
       "<p>3979103 rows × 2 columns</p>\n",
       "</div>"
      ],
      "text/plain": [
       "              MONTHS_BALANCE STATUS\n",
       "SK_ID_BUREAU                       \n",
       "5715448                    0      C\n",
       "5715448                   -1      C\n",
       "5715448                   -2      C\n",
       "5715448                   -3      C\n",
       "5715448                   -4      C\n",
       "5715449                    0      C\n",
       "5715449                   -1      C\n",
       "5715449                   -2      C\n",
       "5715449                   -3      C\n",
       "5715449                   -4      C\n",
       "5715451                   -5      C\n",
       "5715451                   -6      C\n",
       "5715451                   -7      C\n",
       "5715451                   -8      C\n",
       "5715451                   -9      C\n",
       "5715452                    0      C\n",
       "5715452                   -1      C\n",
       "5715452                   -2      C\n",
       "5715452                   -3      C\n",
       "5715452                   -4      C\n",
       "5715453                    0      C\n",
       "5715453                   -1      C\n",
       "5715453                   -2      C\n",
       "5715453                   -3      C\n",
       "5715453                   -4      C\n",
       "5715454                  -15      C\n",
       "5715454                  -16      C\n",
       "5715454                  -17      C\n",
       "5715454                  -18      C\n",
       "5715454                  -19      C\n",
       "...                      ...    ...\n",
       "5041120                   -4      C\n",
       "5041120                   -5      C\n",
       "5041120                   -6      C\n",
       "5041120                   -7      C\n",
       "5041120                   -8      C\n",
       "5041141                    0      C\n",
       "5041141                   -1      C\n",
       "5041141                   -2      C\n",
       "5041141                   -3      C\n",
       "5041141                   -4      C\n",
       "5041143                  -14      C\n",
       "5041143                  -15      C\n",
       "5041143                  -16      C\n",
       "5041143                  -17      C\n",
       "5041143                  -18      C\n",
       "5041172                    0      C\n",
       "5041172                   -1      C\n",
       "5041172                   -2      C\n",
       "5041172                   -3      C\n",
       "5041172                   -4      C\n",
       "5041332                    0      X\n",
       "5041332                   -1      X\n",
       "5041332                   -2      X\n",
       "5041332                   -3      X\n",
       "5041332                   -4      X\n",
       "5041336                  -28      X\n",
       "5041336                  -29      X\n",
       "5041336                  -30      X\n",
       "5041336                  -31      X\n",
       "5041336                  -32      X\n",
       "\n",
       "[3979103 rows x 2 columns]"
      ]
     },
     "execution_count": 5,
     "metadata": {},
     "output_type": "execute_result"
    }
   ],
   "source": [
    "group_bal = df_bal.groupby('SK_ID_BUREAU')\n",
    "group_bal.head()"
   ]
  },
  {
   "cell_type": "markdown",
   "metadata": {},
   "source": [
    "## Inspecting Groups\n",
    "A single group can be selected using get_group()"
   ]
  },
  {
   "cell_type": "code",
   "execution_count": 6,
   "metadata": {},
   "outputs": [
    {
     "name": "stdout",
     "output_type": "stream",
     "text": [
      "2.69 s ± 0 ns per loop (mean ± std. dev. of 1 run, 1 loop each)\n"
     ]
    }
   ],
   "source": [
    "%%timeit -n 1 -r 1 -t x = range(10) \n",
    "group_bal.get_group(5715448) # returns a dataframe!"
   ]
  },
  {
   "cell_type": "markdown",
   "metadata": {},
   "source": [
    "## Iterating through Groups¶"
   ]
  },
  {
   "cell_type": "code",
   "execution_count": 7,
   "metadata": {},
   "outputs": [
    {
     "name": "stdout",
     "output_type": "stream",
     "text": [
      "5715448\n",
      "              MONTHS_BALANCE STATUS\n",
      "SK_ID_BUREAU                       \n",
      "5715448                    0      C\n",
      "5715448                   -1      C\n",
      "5715448                   -2      C\n",
      "5715448                   -3      C\n",
      "5715448                   -4      C\n",
      "5715448                   -5      C\n",
      "5715448                   -6      C\n",
      "5715448                   -7      C\n",
      "5715448                   -8      C\n",
      "5715448                   -9      0\n",
      "5715448                  -10      0\n",
      "5715448                  -11      X\n",
      "5715448                  -12      X\n",
      "5715448                  -13      X\n",
      "5715448                  -14      0\n",
      "5715448                  -15      0\n",
      "5715448                  -16      0\n",
      "5715448                  -17      0\n",
      "5715448                  -18      0\n",
      "5715448                  -19      0\n",
      "5715448                  -20      X\n",
      "5715448                  -21      X\n",
      "5715448                  -22      X\n",
      "5715448                  -23      X\n",
      "5715448                  -24      X\n",
      "5715448                  -25      X\n",
      "5715448                  -26      X\n",
      "370 ms ± 0 ns per loop (mean ± std. dev. of 1 run, 1 loop each)\n"
     ]
    }
   ],
   "source": [
    "%%timeit -n 1 -r 1 -t x = range(10)\n",
    "count = 0\n",
    "lst = df['SK_ID_BUREAU'].unique()\n",
    "for key in lst:\n",
    "    print(key) ## <class 'int'>\n",
    "    print(group_bal.get_group(key)) ## <class 'pandas.core.frame.DataFrame'>\n",
    "    count += 1\n",
    "    if count == 1:\n",
    "        break\n",
    "    pass"
   ]
  },
  {
   "cell_type": "markdown",
   "metadata": {},
   "source": [
    "# Simple Operations on Groups"
   ]
  },
  {
   "cell_type": "markdown",
   "metadata": {},
   "source": [
    "## Single Operations on Groups\n",
    "\n",
    "Compute a statistics for each group: first, last, nth, mean, sum, std, var, min, max, size, count, describe,sem\n",
    "\n",
    "NOTE: Not every method is supported in dask : describe, nth, sem"
   ]
  },
  {
   "cell_type": "markdown",
   "metadata": {},
   "source": [
    "### Variance for each Group\n",
    "\n",
    "2.42 s ± 0 ns per loop (mean ± std. dev. of 1 run, 1 loop each)"
   ]
  },
  {
   "cell_type": "code",
   "execution_count": 8,
   "metadata": {},
   "outputs": [
    {
     "name": "stdout",
     "output_type": "stream",
     "text": [
      "523 ms ± 0 ns per loop (mean ± std. dev. of 1 run, 1 loop each)\n"
     ]
    }
   ],
   "source": [
    "%%timeit -n 1 -r 1 -t x = range(10)\n",
    "group_bal['MONTHS_BALANCE'].var()"
   ]
  },
  {
   "cell_type": "markdown",
   "metadata": {},
   "source": [
    "### Sum for a selected group and column..."
   ]
  },
  {
   "cell_type": "code",
   "execution_count": 15,
   "metadata": {},
   "outputs": [
    {
     "name": "stdout",
     "output_type": "stream",
     "text": [
      "SK_ID_BUREAU\n",
      "5001709   -4656\n",
      "5001710   -3403\n",
      "5001711      -6\n",
      "5001712    -171\n",
      "5001713    -231\n",
      "5001714    -105\n",
      "5001715   -1770\n",
      "5001716   -3655\n",
      "5001717    -231\n",
      "5001718    -741\n",
      "5001719    -903\n",
      "5001720    -630\n",
      "5001721   -3570\n",
      "5001722   -3655\n",
      "5001723    -465\n",
      "5001724    -465\n",
      "5001725     -28\n",
      "5001726    -741\n",
      "5001727   -4465\n",
      "5001728       0\n",
      "5001729     -21\n",
      "5001730   -1830\n",
      "5001731     -55\n",
      "5001732    -630\n",
      "5001733     -55\n",
      "5001734      -3\n",
      "5001735    -276\n",
      "5001736    -276\n",
      "5001737    -231\n",
      "5001738    -946\n",
      "           ... \n",
      "6842859    -630\n",
      "6842860    -630\n",
      "6842861    -630\n",
      "6842862   -2346\n",
      "6842863   -3081\n",
      "6842864    -595\n",
      "6842865    -171\n",
      "6842866     -10\n",
      "6842867    -105\n",
      "6842868   -1540\n",
      "6842869    -351\n",
      "6842870    -630\n",
      "6842871    -171\n",
      "6842872   -3828\n",
      "6842873   -1540\n",
      "6842874   -4005\n",
      "6842875   -2926\n",
      "6842876    -325\n",
      "6842877    -820\n",
      "6842878    -435\n",
      "6842879    -741\n",
      "6842880   -1653\n",
      "6842881    -496\n",
      "6842882     -28\n",
      "6842883    -666\n",
      "6842884   -1128\n",
      "6842885    -276\n",
      "6842886    -528\n",
      "6842887    -666\n",
      "6842888   -1891\n",
      "Name: MONTHS_BALANCE, Length: 817395, dtype: int64\n",
      "411 ms ± 0 ns per loop (mean ± std. dev. of 1 run, 1 loop each)\n"
     ]
    }
   ],
   "source": [
    "%%timeit -n 1 -r 1 -t x = range(10)\n",
    "res_bal = group_bal['MONTHS_BALANCE'].sum()\n",
    "print(res_bal)"
   ]
  },
  {
   "cell_type": "code",
   "execution_count": 14,
   "metadata": {},
   "outputs": [
    {
     "ename": "NameError",
     "evalue": "name 'res_bal' is not defined",
     "output_type": "error",
     "traceback": [
      "\u001b[0;31m---------------------------------------------------------------------------\u001b[0m",
      "\u001b[0;31mNameError\u001b[0m                                 Traceback (most recent call last)",
      "\u001b[0;32m<ipython-input-14-e1517aceeedd>\u001b[0m in \u001b[0;36m<module>\u001b[0;34m()\u001b[0m\n\u001b[0;32m----> 1\u001b[0;31m \u001b[0mres_bal\u001b[0m\u001b[0;34m\u001b[0m\u001b[0m\n\u001b[0m",
      "\u001b[0;31mNameError\u001b[0m: name 'res_bal' is not defined"
     ]
    }
   ],
   "source": [
    "res_bal"
   ]
  },
  {
   "cell_type": "markdown",
   "metadata": {},
   "source": [
    "# Aggregate"
   ]
  },
  {
   "cell_type": "markdown",
   "metadata": {},
   "source": [
    "## Multiple Operations on Groups\n",
    "\n",
    "The aggregation API allows one to use one or more operations over the specified axis. \n",
    "\n",
    "* pass multiple aggregation arguments as a list\n",
    "\n",
    "* You can also pass **named methods** as strings. These will return a Series of the aggregated output. Example: df.agg(['sum', 'mean'])\n",
    "\n",
    "* a NumPy Mathematical Functions: https://docs.scipy.org/doc/numpy-1.13.0/reference/routines.math.html \n",
    "\n",
    "* NOTE: Using a single function is equivalent to apply()."
   ]
  },
  {
   "cell_type": "markdown",
   "metadata": {},
   "source": [
    "### Multiple Operations to the Same Column\n",
    "\n",
    "Pandas: 1.46 s ± 0 ns per loop (mean ± std. dev. of 1 run, 1 loop each)"
   ]
  },
  {
   "cell_type": "code",
   "execution_count": 12,
   "metadata": {},
   "outputs": [
    {
     "name": "stdout",
     "output_type": "stream",
     "text": [
      "2.11 s ± 0 ns per loop (mean ± std. dev. of 1 run, 1 loop each)\n"
     ]
    }
   ],
   "source": [
    "%%timeit -n 1 -r 1 -t x = range(10)\n",
    "group_bal['MONTHS_BALANCE'].agg([np.sum, np.mean, np.std])"
   ]
  },
  {
   "cell_type": "markdown",
   "metadata": {},
   "source": [
    "### Multiple Operations to Different Columns"
   ]
  },
  {
   "cell_type": "code",
   "execution_count": 13,
   "metadata": {},
   "outputs": [
    {
     "name": "stdout",
     "output_type": "stream",
     "text": [
      "1min 42s ± 0 ns per loop (mean ± std. dev. of 1 run, 1 loop each)\n"
     ]
    }
   ],
   "source": [
    "%%timeit -n 1 -r 1 -t x = range(10)\n",
    "group_bal.agg({'MONTHS_BALANCE' : np.mean, 'STATUS' : np.sum})"
   ]
  },
  {
   "cell_type": "markdown",
   "metadata": {},
   "source": [
    "## Transformation Operation\n",
    "\n",
    "The transform() method returns an object that is indexed the same (same size) as the original. This API allows you to provide multiple operations at the same time rather than one-by-one. Its API is quite similar to the .agg API\n",
    "Some examples:\n",
    "\n",
    "* Standardize data (zscore) within a group.\n",
    "* Filling NAs within groups with a value derived from each group.\n"
   ]
  },
  {
   "cell_type": "code",
   "execution_count": 24,
   "metadata": {},
   "outputs": [
    {
     "name": "stdout",
     "output_type": "stream",
     "text": [
      "892 ms ± 0 ns per loop (mean ± std. dev. of 1 run, 1 loop each)\n"
     ]
    }
   ],
   "source": [
    "%%timeit -n 1 -r 1 -t x = range(10) # Not Good!\n",
    "group_bal['MONTHS_BALANCE'].transform(zscore)"
   ]
  },
  {
   "cell_type": "markdown",
   "metadata": {},
   "source": [
    "## Apply Operation :  Not Good!"
   ]
  },
  {
   "cell_type": "code",
   "execution_count": 16,
   "metadata": {},
   "outputs": [
    {
     "name": "stderr",
     "output_type": "stream",
     "text": [
      "/Users/stewarta/anaconda3/envs/wrangle_env/lib/python3.6/site-packages/scipy/stats/stats.py:2253: RuntimeWarning: invalid value encountered in true_divide\n",
      "  return (a - mns) / sstd\n"
     ]
    },
    {
     "name": "stdout",
     "output_type": "stream",
     "text": [
      " "
     ]
    },
    {
     "data": {
      "text/plain": [
       "         160210183 function calls (158575374 primitive calls) in 259.787 seconds\n",
       "\n",
       "   Ordered by: internal time\n",
       "   List reduced from 235 to 15 due to restriction <15>\n",
       "\n",
       "   ncalls  tottime  percall  cumtime  percall filename:lineno(function)\n",
       "   817395   27.231    0.000   44.896    0.000 _methods.py:86(_var)\n",
       "  2452185   23.560    0.000   23.560    0.000 {method 'reduce' of 'numpy.ufunc' objects}\n",
       "   817397   14.289    0.000   57.640    0.000 base.py:255(__new__)\n",
       " 37600322   12.762    0.000   16.577    0.000 {built-in method builtins.isinstance}\n",
       "4086977/3269582   10.832    0.000   18.452    0.000 {built-in method numpy.core.multiarray.array}\n",
       "   817395    8.925    0.000  102.127    0.000 stats.py:2194(zscore)\n",
       "        1    7.511    7.511  257.069  257.069 groupby.py:2247(apply)\n",
       "   817395    6.559    0.000   21.426    0.000 _methods.py:53(_mean)\n",
       "   817395    5.844    0.000   51.207    0.000 _methods.py:133(_std)\n",
       "   817395    4.845    0.000  109.068    0.000 internals.py:4702(get_slice)\n",
       "  5721791    4.776    0.000    4.776    0.000 {built-in method builtins.hasattr}\n",
       "   817395    4.186    0.000  136.749    0.000 series.py:875(_get_values)\n",
       "  7356604    4.126    0.000    4.393    0.000 {built-in method builtins.getattr}\n",
       "   817397    4.116    0.000   19.210    0.000 series.py:166(__init__)\n",
       "  2452187    4.079    0.000    4.079    0.000 generic.py:4362(__getattr__)"
      ]
     },
     "metadata": {},
     "output_type": "display_data"
    }
   ],
   "source": [
    "## T_01: stat.np zscore apply\n",
    "%prun -l 15 group_bal['MONTHS_BALANCE'].apply(zscore) ## i have no idea what this function is doing!!!"
   ]
  },
  {
   "cell_type": "code",
   "execution_count": 54,
   "metadata": {},
   "outputs": [],
   "source": [
    "# T_02: pure python: computed z score\n",
    "def zcore_score_loop(group):\n",
    "    result = {}\n",
    "    for name, g in group:\n",
    "        x = g.values\n",
    "        m = x.mean()\n",
    "        std = x.std()\n",
    "        result[name] = (x - m) / std\n",
    "    return result"
   ]
  },
  {
   "cell_type": "code",
   "execution_count": 55,
   "metadata": {},
   "outputs": [
    {
     "name": "stderr",
     "output_type": "stream",
     "text": [
      "/Users/stewarta/anaconda3/envs/wrangle_env/lib/python3.6/site-packages/ipykernel/__main__.py:8: RuntimeWarning: invalid value encountered in true_divide\n"
     ]
    },
    {
     "name": "stdout",
     "output_type": "stream",
     "text": [
      " "
     ]
    },
    {
     "data": {
      "text/plain": [
       "         147131493 function calls (146314097 primitive calls) in 226.697 seconds\n",
       "\n",
       "   Ordered by: internal time\n",
       "   List reduced from 189 to 15 due to restriction <15>\n",
       "\n",
       "   ncalls  tottime  percall  cumtime  percall filename:lineno(function)\n",
       "   817395   40.348    0.000   63.317    0.000 _methods.py:91(_var)\n",
       "  2452185   32.202    0.000   32.202    0.000 {method 'reduce' of 'numpy.ufunc' objects}\n",
       "   817396   11.589    0.000   46.632    0.000 base.py:255(__new__)\n",
       "        1   10.277   10.277  226.011  226.011 <ipython-input-54-f49d24733107>:2(zcore_score_loop)\n",
       " 35148060    8.983    0.000   12.249    0.000 {built-in method builtins.isinstance}\n",
       "   817395    5.821    0.000   25.448    0.000 _methods.py:58(_mean)\n",
       "   817395    5.217    0.000   68.911    0.000 _methods.py:138(_std)\n",
       "  1634790    4.544    0.000    4.849    0.000 _methods.py:48(_count_reduce_items)\n",
       "  5721776    4.174    0.000    4.174    0.000 {built-in method builtins.hasattr}\n",
       "   817395    3.975    0.000   88.142    0.000 internals.py:4702(get_slice)\n",
       "  7356584    3.579    0.000    3.790    0.000 {built-in method builtins.getattr}\n",
       "   817396    3.380    0.000   15.545    0.000 series.py:166(__init__)\n",
       "   817397    3.347    0.000    7.102    0.000 generic.py:4378(__setattr__)\n",
       "   817395    3.336    0.000  111.688    0.000 series.py:875(_get_values)\n",
       "  2452190    3.120    0.000    5.277    0.000 common.py:1835(_get_dtype_type)"
      ]
     },
     "metadata": {},
     "output_type": "display_data"
    }
   ],
   "source": [
    "%prun -l 15 zcore_score_loop(group_bal['MONTHS_BALANCE'])"
   ]
  },
  {
   "cell_type": "markdown",
   "metadata": {},
   "source": [
    "## Filter:\n",
    "\n",
    "Discard some groups, according to a group-wise computation that evaluates True or False. \n",
    "\n",
    "* Discard data that belongs to groups with only a few members.\n",
    "* Filter out data based on the group sum or mean.   \n"
   ]
  },
  {
   "cell_type": "markdown",
   "metadata": {},
   "source": [
    "### This takes a long time ..."
   ]
  },
  {
   "cell_type": "code",
   "execution_count": 11,
   "metadata": {},
   "outputs": [
    {
     "name": "stdout",
     "output_type": "stream",
     "text": [
      "2min 4s ± 0 ns per loop (mean ± std. dev. of 1 run, 1 loop each)\n"
     ]
    }
   ],
   "source": [
    "%%timeit -n 1 -r 1 -t x = range(10)\n",
    "group_bal['MONTHS_BALANCE'].apply(lambda x: x.sum() > 0 )"
   ]
  },
  {
   "cell_type": "markdown",
   "metadata": {},
   "source": [
    "### ... but, reformulate, then the runtime is shorter."
   ]
  },
  {
   "cell_type": "code",
   "execution_count": 49,
   "metadata": {},
   "outputs": [
    {
     "name": "stdout",
     "output_type": "stream",
     "text": [
      "736 ms ± 0 ns per loop (mean ± std. dev. of 1 run, 1 loop each)\n"
     ]
    }
   ],
   "source": [
    "%%timeit -n 1 -r 1 -t x = range(10)\n",
    "group_bal['MONTHS_BALANCE'].sum().apply(lambda x : x > 0)"
   ]
  }
 ],
 "metadata": {
  "kernelspec": {
   "display_name": "Python [conda env:wrangle_env]",
   "language": "python",
   "name": "conda-env-wrangle_env-py"
  },
  "language_info": {
   "codemirror_mode": {
    "name": "ipython",
    "version": 3
   },
   "file_extension": ".py",
   "mimetype": "text/x-python",
   "name": "python",
   "nbconvert_exporter": "python",
   "pygments_lexer": "ipython3",
   "version": "3.6.6"
  }
 },
 "nbformat": 4,
 "nbformat_minor": 2
}
