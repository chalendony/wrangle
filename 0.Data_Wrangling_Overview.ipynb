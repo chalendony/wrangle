{
 "cells": [
  {
   "cell_type": "markdown",
   "metadata": {},
   "source": [
    "# Overview: Data Wrangling\n",
    "\n",
    "Starting with your *Machine Learning Checklist* you will see that a crucial step is **preparing and understanding** the data. It is a step where you will spend most of your time. \n",
    "\n",
    "Here are two example checklists from [Jason Brownlee](https://machinelearningmastery.com/machine-learning-checklist/) and [Aurélien Géron](09-17-2018-Machine-Learning-Project-Checklist.txt ) that you can adapt to your needs.                   \n",
    "\n",
    "During data preparation numerous tasks are performed and good tools are needed.\n",
    "\n",
    "We will use [Pandas](http://pandas.pydata.org/pandas-docs/stable/index.html). Pandas is a Python library for data manipulation, wrangling  and analysis of tabular and time series data. It contains extensive tools designed to make data analysis fast and easy.\n",
    "\n",
    "Using Pandas we will: summarize, select, index, reshape, combine and group data. Finally we take a first look at an extension to Pandas designed to help with wrangling out-of-core data.\n",
    "\n",
    "**Let's get ready to Wrangle...** \n",
    "\n",
    "Point Browser to my binder for an interactive version: https://mybinder.org/v2/gh/chalendony/wrangle/master\n",
    "\n",
    "### * Explore  \n",
    "\n",
    "### * Combine \n",
    "\n",
    "### * Group\n",
    "\n",
    "TODO:\n",
    "remove absolute path names\n",
    "update the summary sheet Exploratory\n",
    "comment out the answer for each notebook\n",
    "\n",
    "\n"
   ]
  },
  {
   "cell_type": "code",
   "execution_count": 4,
   "metadata": {},
   "outputs": [
    {
     "data": {
      "text/html": [
       "\n",
       "        <iframe\n",
       "            width=\"1200\"\n",
       "            height=\"900\"\n",
       "            src=\"21092018_Explore.pdf\"\n",
       "            frameborder=\"0\"\n",
       "            allowfullscreen\n",
       "        ></iframe>\n",
       "        "
      ],
      "text/plain": [
       "<IPython.lib.display.IFrame at 0x102bdfac8>"
      ]
     },
     "execution_count": 4,
     "metadata": {},
     "output_type": "execute_result"
    }
   ],
   "source": [
    "from IPython.display import IFrame\n",
    "IFrame(\"21092018_Explore.pdf\", width=1200, height=900)"
   ]
  },
  {
   "cell_type": "code",
   "execution_count": null,
   "metadata": {},
   "outputs": [],
   "source": []
  }
 ],
 "metadata": {
  "kernelspec": {
   "display_name": "Python [conda env:wrangle_env]",
   "language": "python",
   "name": "conda-env-wrangle_env-py"
  },
  "language_info": {
   "codemirror_mode": {
    "name": "ipython",
    "version": 3
   },
   "file_extension": ".py",
   "mimetype": "text/x-python",
   "name": "python",
   "nbconvert_exporter": "python",
   "pygments_lexer": "ipython3",
   "version": "3.6.6"
  }
 },
 "nbformat": 4,
 "nbformat_minor": 2
}
